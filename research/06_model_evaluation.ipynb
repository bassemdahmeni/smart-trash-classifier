{
 "cells": [
  {
   "cell_type": "code",
   "execution_count": 1,
   "id": "5554dff4",
   "metadata": {},
   "outputs": [],
   "source": [
    "import os "
   ]
  },
  {
   "cell_type": "code",
   "execution_count": 2,
   "id": "a998297f",
   "metadata": {},
   "outputs": [],
   "source": [
    "os.chdir(\"../\")"
   ]
  },
  {
   "cell_type": "code",
   "execution_count": 4,
   "id": "5049de49",
   "metadata": {},
   "outputs": [
    {
     "data": {
      "text/plain": [
       "'c:\\\\Users\\\\el papi\\\\smart-trash-classifier'"
      ]
     },
     "execution_count": 4,
     "metadata": {},
     "output_type": "execute_result"
    }
   ],
   "source": [
    "pwd"
   ]
  },
  {
   "cell_type": "code",
   "execution_count": 8,
   "id": "5ca247bd",
   "metadata": {},
   "outputs": [
    {
     "name": "stdout",
     "output_type": "stream",
     "text": [
      "[2025-10-03 00:16:34,130: INFO: common: yaml file: config\\config.yaml loaded successfully]\n",
      "[2025-10-03 00:16:34,133: INFO: common: yaml file: params.yaml loaded successfully]\n",
      "[2025-10-03 00:16:34,134: INFO: common: created directory at: artifacts]\n",
      "[2025-10-03 00:16:34,136: INFO: common: created directory at: artifacts/prepare_base_model]\n",
      "[Init] PrepareBaseModel initialized with model: efficientnet_b0\n",
      "[Pipeline] Preparing base model...\n",
      "[Step 1] Loading base model...\n",
      "[Step 2] Freezing base model layers...\n",
      "[Step 3] Replacing classifier head...\n",
      "[Done] Base model created.\n",
      "[Saved] Model saved at: artifacts\\prepare_base_model\\base_model.pth\n",
      "[Pipeline Done] Base model prepared and saved.\n",
      "[Pipeline] Updating base model...\n",
      "[Step 1] Loading base model...\n",
      "[Step 2] Freezing base model layers...\n",
      "[Step 3] Replacing classifier head...\n",
      "[Done] Base model created.\n",
      "[Step 1] Loaded base model weights.\n",
      "[Step 2] Unfreezing classifier...\n",
      "[Step 3] Unfreezing last 9 backbone layers...\n",
      "[Saved] Model saved at: artifacts\\prepare_base_model\\base_model_updated.pth\n",
      "[Pipeline Done] Updated base model ready for fine-tuning.\n",
      "[Step 1] Loading base model...\n",
      "[Step 2] Freezing base model layers...\n",
      "[Step 3] Replacing classifier head...\n",
      "[Done] Base model created.\n"
     ]
    },
    {
     "data": {
      "text/plain": [
       "<All keys matched successfully>"
      ]
     },
     "execution_count": 8,
     "metadata": {},
     "output_type": "execute_result"
    }
   ],
   "source": [
    "from cnnClassifier import logger\n",
    "from cnnClassifier.pipeline.stage_02_prepare_base_model import PrepareBaseModelTrainingPipeline\n",
    "import torch\n",
    "updated_model, model_architecture=PrepareBaseModelTrainingPipeline().main()\n",
    "\n",
    "model_architecture.load_state_dict(torch.load(\"artifacts/training/model.pth\", map_location=\"cuda\"))\n"
   ]
  },
  {
   "cell_type": "code",
   "execution_count": null,
   "id": "87accd77",
   "metadata": {},
   "outputs": [],
   "source": [
    "from dataclasses import dataclass\n",
    "from pathlib import Path\n",
    "\n",
    "\n",
    "@dataclass(frozen=True)\n",
    "class EvaluationConfig:\n",
    "    path_of_model: Path\n",
    "    training_data: Path\n",
    "    all_params: dict\n",
    "    params_image_size: list\n",
    "    params_batch_size: int"
   ]
  },
  {
   "cell_type": "code",
   "execution_count": 10,
   "id": "510e70d1",
   "metadata": {},
   "outputs": [],
   "source": [
    "from cnnClassifier.constants import *\n",
    "from cnnClassifier.utils.common import read_yaml, create_directories, save_json"
   ]
  },
  {
   "cell_type": "code",
   "execution_count": null,
   "id": "b2b7e491",
   "metadata": {},
   "outputs": [],
   "source": [
    "\n",
    "class ConfigurationManager:\n",
    "    def __init__(\n",
    "        self, \n",
    "        config_filepath = CONFIG_FILE_PATH,\n",
    "        params_filepath = PARAMS_FILE_PATH):\n",
    "        self.config = read_yaml(config_filepath)\n",
    "        self.params = read_yaml(params_filepath)\n",
    "        create_directories([self.config.artifacts_root])\n",
    "\n",
    "    \n",
    "    def get_validation_config(self) -> EvaluationConfig:\n",
    "        eval_config = EvaluationConfig(\n",
    "            path_of_model=\"artifacts/training/model.pth\",\n",
    "            training_data=\"artifacts/data_ingestion/dataset-resized\",\n",
    "            all_params=self.params,\n",
    "            params_image_size=self.params.IMAGE_SIZE,\n",
    "            params_batch_size=self.params.BATCH_SIZE\n",
    "        )\n",
    "        return eval_config\n",
    "    "
   ]
  },
  {
   "cell_type": "code",
   "execution_count": 24,
   "id": "2a9c730b",
   "metadata": {},
   "outputs": [],
   "source": [
    "import torch\n",
    "import torch.nn as nn\n",
    "from pathlib import Path\n",
    "from cnnClassifier.utils.common import save_json\n",
    "\n",
    "class Evaluation:\n",
    "    def __init__(self, config: \"EvaluationConfig\", model: nn.Module, test_data, device=\"cuda\"):\n",
    "        \n",
    "        self.config = config\n",
    "        self.device = device if torch.cuda.is_available() else \"cpu\"\n",
    "\n",
    "        # Initialize model architecture\n",
    "        self.model = model.to(self.device)\n",
    "\n",
    "        # Load saved weights\n",
    "        self.model.load_state_dict(\n",
    "            torch.load(self.config.path_of_model, map_location=self.device)\n",
    "        )\n",
    "        self.model.eval()\n",
    "\n",
    "        self.test_data = test_data\n",
    "        self.criterion = nn.CrossEntropyLoss()\n",
    "\n",
    "    def evaluate(self):\n",
    "        test_loss = 0.0\n",
    "        correct = 0\n",
    "        total = 0\n",
    "\n",
    "        with torch.no_grad():\n",
    "            for images, labels in self.test_data:\n",
    "                images, labels = images.to(self.device), labels.to(self.device)\n",
    "\n",
    "                outputs = self.model(images)\n",
    "                loss = self.criterion(outputs, labels)\n",
    "                test_loss += loss.item() * images.size(0)\n",
    "\n",
    "                _, predicted = torch.max(outputs, 1)\n",
    "                correct += (predicted == labels).sum().item()\n",
    "                total += labels.size(0)\n",
    "\n",
    "        avg_loss = test_loss / total\n",
    "        accuracy = correct / total * 100\n",
    "        return {\"loss\": avg_loss, \"accuracy\": accuracy}\n",
    "\n",
    "    def save_results(self, results: dict):\n",
    "        \"\"\"Save evaluation results as JSON\"\"\"\n",
    "        save_json(Path(\"scores.json\"), results)\n"
   ]
  },
  {
   "cell_type": "code",
   "execution_count": 25,
   "id": "9f843fe2",
   "metadata": {},
   "outputs": [
    {
     "name": "stdout",
     "output_type": "stream",
     "text": [
      "[2025-10-03 01:23:58,550: INFO: common: yaml file: config\\config.yaml loaded successfully]\n",
      "[2025-10-03 01:23:58,552: INFO: common: yaml file: params.yaml loaded successfully]\n",
      "[2025-10-03 01:23:58,553: INFO: common: created directory at: artifacts]\n",
      "[2025-10-03 01:23:58,554: INFO: common: created directory at: artifacts/prepare_base_model]\n",
      "[Init] PrepareBaseModel initialized with model: efficientnet_b0\n",
      "[Pipeline] Preparing base model...\n",
      "[Step 1] Loading base model...\n",
      "[Step 2] Freezing base model layers...\n",
      "[Step 3] Replacing classifier head...\n",
      "[Done] Base model created.\n",
      "[Saved] Model saved at: artifacts\\prepare_base_model\\base_model.pth\n",
      "[Pipeline Done] Base model prepared and saved.\n",
      "[Pipeline] Updating base model...\n",
      "[Step 1] Loading base model...\n",
      "[Step 2] Freezing base model layers...\n",
      "[Step 3] Replacing classifier head...\n",
      "[Done] Base model created.\n",
      "[Step 1] Loaded base model weights.\n",
      "[Step 2] Unfreezing classifier...\n",
      "[Step 3] Unfreezing last 9 backbone layers...\n",
      "[Saved] Model saved at: artifacts\\prepare_base_model\\base_model_updated.pth\n",
      "[Pipeline Done] Updated base model ready for fine-tuning.\n",
      "[Step 1] Loading base model...\n",
      "[Step 2] Freezing base model layers...\n",
      "[Step 3] Replacing classifier head...\n",
      "[Done] Base model created.\n",
      "[2025-10-03 01:23:58,932: INFO: common: yaml file: config\\config.yaml loaded successfully]\n",
      "[2025-10-03 01:23:58,934: INFO: common: yaml file: params.yaml loaded successfully]\n",
      "[2025-10-03 01:23:58,934: INFO: common: created directory at: artifacts]\n",
      "[2025-10-03 01:23:58,941: INFO: stage_03_data_preprocessing: Train loader batches: 56]\n",
      "[2025-10-03 01:23:58,941: INFO: stage_03_data_preprocessing: Validation loader batches: 16]\n",
      "[2025-10-03 01:23:58,941: INFO: stage_03_data_preprocessing: Test loader batches: 8]\n",
      "[2025-10-03 01:23:59,016: INFO: stage_03_data_preprocessing: Sample batch - images shape: torch.Size([32, 3, 224, 224]), labels shape: torch.Size([32])]\n",
      "[2025-10-03 01:23:59,018: INFO: common: yaml file: config\\config.yaml loaded successfully]\n",
      "[2025-10-03 01:23:59,020: INFO: common: yaml file: params.yaml loaded successfully]\n",
      "[2025-10-03 01:23:59,021: INFO: common: created directory at: artifacts]\n",
      "{'loss': 0.7420768103902302, 'accuracy': 77.38095238095238}\n",
      "[2025-10-03 01:24:00,997: INFO: common: json file saved at: scores.json]\n"
     ]
    }
   ],
   "source": [
    "from cnnClassifier.pipeline.stage_02_prepare_base_model import PrepareBaseModelTrainingPipeline\n",
    "from cnnClassifier.pipeline.stage_03_data_preprocessing import DataPreprocessingTrainingPipeline\n",
    "\n",
    "prepare_pipeline = PrepareBaseModelTrainingPipeline()\n",
    "updated_model, model_architecture = prepare_pipeline.main()\n",
    "data_pipeline = DataPreprocessingTrainingPipeline()\n",
    "train_loader, val_loader, test_loader = data_pipeline.main()\n",
    "\n",
    "# config\n",
    "config = ConfigurationManager()\n",
    "config_val = config.get_validation_config()\n",
    "\n",
    "# evaluator (will load model automatically)\n",
    "evaluator = Evaluation(config=config_val, model=model_architecture, test_data=test_loader)\n",
    "\n",
    "# evaluate\n",
    "results = evaluator.evaluate()\n",
    "print(results)\n",
    "\n",
    "# save\n",
    "evaluator.save_results(results)\n"
   ]
  }
 ],
 "metadata": {
  "kernelspec": {
   "display_name": "base",
   "language": "python",
   "name": "python3"
  },
  "language_info": {
   "codemirror_mode": {
    "name": "ipython",
    "version": 3
   },
   "file_extension": ".py",
   "mimetype": "text/x-python",
   "name": "python",
   "nbconvert_exporter": "python",
   "pygments_lexer": "ipython3",
   "version": "3.13.5"
  }
 },
 "nbformat": 4,
 "nbformat_minor": 5
}
