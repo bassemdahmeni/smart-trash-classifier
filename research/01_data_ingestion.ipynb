{
 "cells": [
  {
   "cell_type": "code",
   "execution_count": 1,
   "id": "ec0c4c20",
   "metadata": {},
   "outputs": [],
   "source": [
    "import os "
   ]
  },
  {
   "cell_type": "code",
   "execution_count": null,
   "id": "8d997da9",
   "metadata": {},
   "outputs": [],
   "source": [
    "%pwd"
   ]
  },
  {
   "cell_type": "code",
   "execution_count": 2,
   "id": "1803875d",
   "metadata": {},
   "outputs": [],
   "source": [
    "os.chdir(\"../\")"
   ]
  },
  {
   "cell_type": "code",
   "execution_count": null,
   "id": "71872e05",
   "metadata": {},
   "outputs": [],
   "source": [
    "%pwd"
   ]
  },
  {
   "cell_type": "code",
   "execution_count": 3,
   "id": "dc6d3afb",
   "metadata": {},
   "outputs": [],
   "source": [
    "from dataclasses import dataclass\n",
    "from pathlib import Path\n",
    "\n",
    "\n",
    "@dataclass(frozen=True)\n",
    "class DataIngestionConfig:\n",
    "    root_dir: Path\n",
    "    source_URL: str\n",
    "    local_data_file: Path\n",
    "    unzip_dir: Path"
   ]
  },
  {
   "cell_type": "code",
   "execution_count": 12,
   "id": "97246d36",
   "metadata": {},
   "outputs": [],
   "source": [
    "from cnnClassifier.constants import *\n",
    "from cnnClassifier.utils.common import read_yaml, create_directories"
   ]
  },
  {
   "cell_type": "code",
   "execution_count": 6,
   "id": "f893d588",
   "metadata": {},
   "outputs": [],
   "source": [
    "class ConfigurationManager:\n",
    "    def __init__(\n",
    "        self,\n",
    "        config_filepath = CONFIG_FILE_PATH,\n",
    "        params_filepath = PARAMS_FILE_PATH):\n",
    "\n",
    "        self.config = read_yaml(config_filepath)\n",
    "        self.params = read_yaml(params_filepath)\n",
    "\n",
    "        create_directories([self.config.artifacts_root])\n",
    "\n",
    "\n",
    "    \n",
    "    def get_data_ingestion_config(self) -> DataIngestionConfig:\n",
    "        config = self.config.data_ingestion\n",
    "\n",
    "        create_directories([config.root_dir])\n",
    "\n",
    "        data_ingestion_config = DataIngestionConfig(\n",
    "            root_dir=config.root_dir,\n",
    "            source_URL=config.source_URL,\n",
    "            local_data_file=config.local_data_file,\n",
    "            unzip_dir=config.unzip_dir \n",
    "        )\n",
    "\n",
    "        return data_ingestion_config\n",
    "      "
   ]
  },
  {
   "cell_type": "code",
   "execution_count": 8,
   "id": "313c41ea",
   "metadata": {},
   "outputs": [
    {
     "name": "stdout",
     "output_type": "stream",
     "text": [
      "Requirement already satisfied: kagglehub in c:\\users\\el papi\\miniconda3\\lib\\site-packages (0.3.13)\n",
      "Requirement already satisfied: packaging in c:\\users\\el papi\\miniconda3\\lib\\site-packages (from kagglehub) (25.0)\n",
      "Requirement already satisfied: pyyaml in c:\\users\\el papi\\miniconda3\\lib\\site-packages (from kagglehub) (6.0.2)\n",
      "Requirement already satisfied: requests in c:\\users\\el papi\\miniconda3\\lib\\site-packages (from kagglehub) (2.32.4)\n",
      "Requirement already satisfied: tqdm in c:\\users\\el papi\\miniconda3\\lib\\site-packages (from kagglehub) (4.67.1)\n",
      "Requirement already satisfied: charset_normalizer<4,>=2 in c:\\users\\el papi\\miniconda3\\lib\\site-packages (from requests->kagglehub) (3.3.2)\n",
      "Requirement already satisfied: idna<4,>=2.5 in c:\\users\\el papi\\miniconda3\\lib\\site-packages (from requests->kagglehub) (3.7)\n",
      "Requirement already satisfied: urllib3<3,>=1.21.1 in c:\\users\\el papi\\miniconda3\\lib\\site-packages (from requests->kagglehub) (2.5.0)\n",
      "Requirement already satisfied: certifi>=2017.4.17 in c:\\users\\el papi\\miniconda3\\lib\\site-packages (from requests->kagglehub) (2025.8.3)\n",
      "Requirement already satisfied: colorama in c:\\users\\el papi\\miniconda3\\lib\\site-packages (from tqdm->kagglehub) (0.4.6)\n"
     ]
    }
   ],
   "source": [
    "!pip install kagglehub"
   ]
  },
  {
   "cell_type": "code",
   "execution_count": 29,
   "id": "ad0f0bb4",
   "metadata": {},
   "outputs": [],
   "source": [
    "import kagglehub\n",
    "import kagglehub\n",
    "import os\n",
    "import zipfile\n",
    "from pathlib import Path\n",
    "from cnnClassifier import logger\n",
    "\n",
    "\n",
    "\n",
    "class DataIngestion:\n",
    "    def __init__(self, config: DataIngestionConfig):\n",
    "        self.config = config\n",
    "\n",
    "    \n",
    "    def download_file(self):\n",
    "        if not os.path.exists(self.config.local_data_file):\n",
    "            try:\n",
    "                logger.info(f\"Downloading dataset from Kaggle: {self.config.source_URL}\")\n",
    "                \n",
    "                # Extract dataset owner and name from URL\n",
    "                # Example URL: \"https://www.kaggle.com/datasets/techsash/waste-classification-data\"\n",
    "                url_parts = self.config.source_URL.strip('/').split('/')\n",
    "                dataset_owner = url_parts[-2]\n",
    "                dataset_name = url_parts[-1]\n",
    "                \n",
    "                logger.info(f\"Downloading dataset: {dataset_owner}/{dataset_name}\")\n",
    "                \n",
    "                # Download dataset using kagglehub\n",
    "                path = kagglehub.dataset_download(f\"{dataset_owner}/{dataset_name}\")\n",
    "                \n",
    "                # The downloaded file might be a zip file or directory\n",
    "                # If it's a directory, we need to zip it or handle accordingly\n",
    "                if os.path.isdir(path):\n",
    "                    # Create a zip file from the downloaded directory\n",
    "                    with zipfile.ZipFile(self.config.local_data_file, 'w', zipfile.ZIP_DEFLATED) as zipf:\n",
    "                        for root, dirs, files in os.walk(path):\n",
    "                            for file in files:\n",
    "                                file_path = os.path.join(root, file)\n",
    "                                arcname = os.path.relpath(file_path, path)\n",
    "                                zipf.write(file_path, arcname)\n",
    "                    logger.info(f\"Downloaded dataset zipped to: {self.config.local_data_file}\")\n",
    "                else:\n",
    "                    # If it's already a file, move/copy it to our desired location\n",
    "                    import shutil\n",
    "                    shutil.move(path, self.config.local_data_file)\n",
    "                    logger.info(f\"Downloaded file moved to: {self.config.local_data_file}\")\n",
    "                \n",
    "                logger.info(f\"Dataset downloaded successfully!\")\n",
    "                \n",
    "            except Exception as e:\n",
    "                logger.error(f\"Error downloading dataset from Kaggle: {e}\")\n",
    "                raise e\n",
    "        else:\n",
    "            logger.info(f\"File already exists \")  \n",
    "\n",
    "\n",
    "    \n",
    "    def extract_zip_file(self):\n",
    "        \"\"\"\n",
    "        zip_file_path: str\n",
    "        Extracts the zip file into the data directory\n",
    "        Function returns None\n",
    "        \"\"\"\n",
    "        unzip_path = self.config.unzip_dir\n",
    "        os.makedirs(unzip_path, exist_ok=True)\n",
    "        \n",
    "        logger.info(f\"Extracting zip file: {self.config.local_data_file}\")\n",
    "        logger.info(f\"Extracting to: {unzip_path}\")\n",
    "        \n",
    "        with zipfile.ZipFile(self.config.local_data_file, 'r') as zip_ref:\n",
    "            zip_ref.extractall(unzip_path)\n",
    "        \n",
    "        logger.info(f\"Extraction completed to: {unzip_path}\")"
   ]
  },
  {
   "cell_type": "code",
   "execution_count": 30,
   "id": "2a2cd5b9",
   "metadata": {},
   "outputs": [
    {
     "name": "stdout",
     "output_type": "stream",
     "text": [
      "[2025-09-20 04:45:48,044: INFO: common: yaml file: config\\config.yaml loaded successfully]\n",
      "[2025-09-20 04:45:48,045: INFO: common: yaml file: params.yaml loaded successfully]\n",
      "[2025-09-20 04:45:48,047: INFO: common: created directory at: artifacts]\n",
      "[2025-09-20 04:45:48,048: INFO: common: created directory at: artifacts/data_ingestion]\n",
      "[2025-09-20 04:45:48,049: INFO: 3987774324: File already exists ]\n",
      "[2025-09-20 04:45:48,050: INFO: 3987774324: Extracting zip file: artifacts/data_ingestion/data.zip]\n",
      "[2025-09-20 04:45:48,050: INFO: 3987774324: Extracting to: artifacts/data_ingestion]\n",
      "[2025-09-20 04:45:50,171: INFO: 3987774324: Extraction completed to: artifacts/data_ingestion]\n"
     ]
    }
   ],
   "source": [
    "try:\n",
    "    config = ConfigurationManager()\n",
    "    data_ingestion_config = config.get_data_ingestion_config()\n",
    "    data_ingestion = DataIngestion(config=data_ingestion_config)\n",
    "    data_ingestion.download_file()\n",
    "    data_ingestion.extract_zip_file()\n",
    "    \n",
    "except Exception as e:\n",
    "    raise e"
   ]
  }
 ],
 "metadata": {
  "kernelspec": {
   "display_name": "base",
   "language": "python",
   "name": "python3"
  },
  "language_info": {
   "codemirror_mode": {
    "name": "ipython",
    "version": 3
   },
   "file_extension": ".py",
   "mimetype": "text/x-python",
   "name": "python",
   "nbconvert_exporter": "python",
   "pygments_lexer": "ipython3",
   "version": "3.13.5"
  }
 },
 "nbformat": 4,
 "nbformat_minor": 5
}
